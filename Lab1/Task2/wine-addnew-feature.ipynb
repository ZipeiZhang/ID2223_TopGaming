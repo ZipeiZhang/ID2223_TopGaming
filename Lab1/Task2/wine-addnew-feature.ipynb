{
 "cells": [
  {
   "cell_type": "code",
   "execution_count": 1,
   "id": "063d9a22",
   "metadata": {
    "ExecuteTime": {
     "end_time": "2023-11-19T17:09:03.511426Z",
     "start_time": "2023-11-19T17:09:03.478275Z"
    }
   },
   "outputs": [
    {
     "name": "stderr",
     "output_type": "stream",
     "text": [
      "/u/11/zhangz13/unix/myenv/lib/python3.10/site-packages/tqdm/auto.py:21: TqdmWarning: IProgress not found. Please update jupyter and ipywidgets. See https://ipywidgets.readthedocs.io/en/stable/user_install.html\n",
      "  from .autonotebook import tqdm as notebook_tqdm\n"
     ]
    }
   ],
   "source": [
    "import hopsworks\n",
    "import pandas as pd\n",
    "from sklearn.neighbors import KNeighborsClassifier\n",
    "from sklearn.ensemble import RandomForestClassifier\n",
    "from sklearn.linear_model import LogisticRegression\n",
    "from sklearn.metrics import accuracy_score\n",
    "from sklearn.metrics import confusion_matrix\n",
    "from sklearn.metrics import classification_report\n",
    "from sklearn.metrics import confusion_matrix, accuracy_score, f1_score, precision_score, recall_score\n",
    "import seaborn as sns\n",
    "from matplotlib import pyplot\n",
    "from hsml.schema import Schema\n",
    "from hsml.model_schema import ModelSchema\n",
    "import joblib\n",
    "import os"
   ]
  },
  {
   "cell_type": "code",
   "execution_count": 2,
   "id": "5ce90341",
   "metadata": {
    "ExecuteTime": {
     "end_time": "2023-11-19T17:09:08.355205Z",
     "start_time": "2023-11-19T17:09:05.519105Z"
    }
   },
   "outputs": [
    {
     "name": "stdout",
     "output_type": "stream",
     "text": [
      "Connected. Call `.close()` to terminate connection gracefully.\n",
      "\n",
      "Logged in to project, explore it here https://c.app.hopsworks.ai:443/p/229529\n",
      "Connected. Call `.close()` to terminate connection gracefully.\n"
     ]
    }
   ],
   "source": [
    "# You have to set the environment variable 'HOPSWORKS_API_KEY' for login to succeed\n",
    "api = 'HeCatNGJxisb99Vf.ircWdTrkgbbZpBMU7iPN2zqDIwoTuaSX88LPeISIMJHuzP3icXixNd6JFcWUqakL'\n",
    "project = hopsworks.login(api_key_value = api)\n",
    "fs = project.get_feature_store()"
   ]
  },
  {
   "cell_type": "code",
   "execution_count": 3,
   "metadata": {},
   "outputs": [],
   "source": [
    "wine_fg = fs.get_or_create_feature_group(\n",
    "    name=\"wine_2\",\n",
    "    version=5,\n",
    "    primary_key=[\"fixed_acidity\",\"volatile_acidity\",\"citric_acid\", \"residual_sugar\"\t,\"chlorides\",\t\n",
    "                 \"free_sulfur_dioxide\",\t\"total_sulfur_dioxide\",\t\"density\",\"pH\",\"sulphates\",\"alcohol\",\"quality\"], \n",
    "    description=\"For new wine data\")"
   ]
  },
  {
   "cell_type": "code",
   "execution_count": 4,
   "metadata": {},
   "outputs": [
    {
     "name": "stdout",
     "output_type": "stream",
     "text": [
      "Data validation failed: {\n",
      "  \"evaluation_parameters\": {},\n",
      "  \"meta\": {\n",
      "    \"great_expectations_version\": \"0.14.13\",\n",
      "    \"expectation_suite_name\": \"wine_dimensions\",\n",
      "    \"run_id\": {\n",
      "      \"run_name\": null,\n",
      "      \"run_time\": \"2023-11-20T21:26:21.324445+00:00\"\n",
      "    },\n",
      "    \"batch_kwargs\": {\n",
      "      \"ge_batch_id\": \"731a56a4-87eb-11ee-938f-eb43c4c70878\"\n",
      "    },\n",
      "    \"batch_markers\": {},\n",
      "    \"batch_parameters\": {},\n",
      "    \"validation_time\": \"20231120T212621.324327Z\",\n",
      "    \"expectation_suite_meta\": {\n",
      "      \"great_expectations_version\": \"0.14.13\"\n",
      "    }\n",
      "  },\n",
      "  \"statistics\": {\n",
      "    \"evaluated_expectations\": 12,\n",
      "    \"successful_expectations\": 0,\n",
      "    \"unsuccessful_expectations\": 12,\n",
      "    \"success_percent\": 0.0\n",
      "  },\n",
      "  \"results\": [\n",
      "    {\n",
      "      \"meta\": {},\n",
      "      \"expectation_config\": {\n",
      "        \"expectation_type\": \"expect_column_values_to_be_between\",\n",
      "        \"meta\": {},\n",
      "        \"kwargs\": {\n",
      "          \"column\": \"fixed_acidity\",\n",
      "          \"min_value\": 3.5,\n",
      "          \"max_value\": 16,\n",
      "          \"result_format\": \"SUMMARY\"\n",
      "        }\n",
      "      },\n",
      "      \"success\": false,\n",
      "      \"result\": {},\n",
      "      \"exception_info\": {\n",
      "        \"raised_exception\": true,\n",
      "        \"exception_message\": \"TypeError: Column values, min_value, and max_value must either be None or of the same type.\",\n",
      "        \"exception_traceback\": \"Traceback (most recent call last):\\n  File \\\"/u/11/zhangz13/unix/myenv/lib/python3.10/site-packages/great_expectations/dataset/pandas_dataset.py\\\", line 1231, in expect_column_values_to_be_between\\n    return min_comparator(temp_column) & max_comparator(temp_column)\\n  File \\\"/u/11/zhangz13/unix/myenv/lib/python3.10/site-packages/great_expectations/dataset/pandas_dataset.py\\\", line 1214, in new_comparator\\n    return comparator(value, comparison_value)\\n  File \\\"/u/11/zhangz13/unix/myenv/lib/python3.10/site-packages/pandas/core/ops/common.py\\\", line 81, in new_method\\n    return method(self, other)\\n  File \\\"/u/11/zhangz13/unix/myenv/lib/python3.10/site-packages/pandas/core/arraylike.py\\\", line 60, in __ge__\\n    return self._cmp_method(other, operator.ge)\\n  File \\\"/u/11/zhangz13/unix/myenv/lib/python3.10/site-packages/pandas/core/series.py\\\", line 6096, in _cmp_method\\n    res_values = ops.comparison_op(lvalues, rvalues, op)\\n  File \\\"/u/11/zhangz13/unix/myenv/lib/python3.10/site-packages/pandas/core/ops/array_ops.py\\\", line 293, in comparison_op\\n    res_values = comp_method_OBJECT_ARRAY(op, lvalues, rvalues)\\n  File \\\"/u/11/zhangz13/unix/myenv/lib/python3.10/site-packages/pandas/core/ops/array_ops.py\\\", line 82, in comp_method_OBJECT_ARRAY\\n    result = libops.scalar_compare(x.ravel(), y, op)\\n  File \\\"pandas/_libs/ops.pyx\\\", line 107, in pandas._libs.ops.scalar_compare\\nTypeError: '>=' not supported between instances of 'list' and 'float'\\n\\nDuring handling of the above exception, another exception occurred:\\n\\nTraceback (most recent call last):\\n  File \\\"/u/11/zhangz13/unix/myenv/lib/python3.10/site-packages/great_expectations/data_asset/data_asset.py\\\", line 275, in wrapper\\n    return_obj = func(self, **evaluation_args)\\n  File \\\"/u/11/zhangz13/unix/myenv/lib/python3.10/site-packages/great_expectations/dataset/pandas_dataset.py\\\", line 111, in inner_wrapper\\n    boolean_mapped_success_values = func(self, nonnull_values, *args, **kwargs)\\n  File \\\"/u/11/zhangz13/unix/myenv/lib/python3.10/site-packages/great_expectations/dataset/pandas_dataset.py\\\", line 1235, in expect_column_values_to_be_between\\n    raise TypeError(\\nTypeError: Column values, min_value, and max_value must either be None or of the same type.\\n\"\n",
      "      }\n",
      "    },\n",
      "    {\n",
      "      \"meta\": {},\n",
      "      \"expectation_config\": {\n",
      "        \"expectation_type\": \"expect_column_values_to_be_between\",\n",
      "        \"meta\": {},\n",
      "        \"kwargs\": {\n",
      "          \"column\": \"volatile_acidity\",\n",
      "          \"min_value\": 0.06,\n",
      "          \"max_value\": 1.6,\n",
      "          \"result_format\": \"SUMMARY\"\n",
      "        }\n",
      "      },\n",
      "      \"success\": false,\n",
      "      \"result\": {},\n",
      "      \"exception_info\": {\n",
      "        \"raised_exception\": true,\n",
      "        \"exception_message\": \"TypeError: Column values, min_value, and max_value must either be None or of the same type.\",\n",
      "        \"exception_traceback\": \"Traceback (most recent call last):\\n  File \\\"/u/11/zhangz13/unix/myenv/lib/python3.10/site-packages/great_expectations/dataset/pandas_dataset.py\\\", line 1231, in expect_column_values_to_be_between\\n    return min_comparator(temp_column) & max_comparator(temp_column)\\n  File \\\"/u/11/zhangz13/unix/myenv/lib/python3.10/site-packages/great_expectations/dataset/pandas_dataset.py\\\", line 1214, in new_comparator\\n    return comparator(value, comparison_value)\\n  File \\\"/u/11/zhangz13/unix/myenv/lib/python3.10/site-packages/pandas/core/ops/common.py\\\", line 81, in new_method\\n    return method(self, other)\\n  File \\\"/u/11/zhangz13/unix/myenv/lib/python3.10/site-packages/pandas/core/arraylike.py\\\", line 60, in __ge__\\n    return self._cmp_method(other, operator.ge)\\n  File \\\"/u/11/zhangz13/unix/myenv/lib/python3.10/site-packages/pandas/core/series.py\\\", line 6096, in _cmp_method\\n    res_values = ops.comparison_op(lvalues, rvalues, op)\\n  File \\\"/u/11/zhangz13/unix/myenv/lib/python3.10/site-packages/pandas/core/ops/array_ops.py\\\", line 293, in comparison_op\\n    res_values = comp_method_OBJECT_ARRAY(op, lvalues, rvalues)\\n  File \\\"/u/11/zhangz13/unix/myenv/lib/python3.10/site-packages/pandas/core/ops/array_ops.py\\\", line 82, in comp_method_OBJECT_ARRAY\\n    result = libops.scalar_compare(x.ravel(), y, op)\\n  File \\\"pandas/_libs/ops.pyx\\\", line 107, in pandas._libs.ops.scalar_compare\\nTypeError: '>=' not supported between instances of 'list' and 'float'\\n\\nDuring handling of the above exception, another exception occurred:\\n\\nTraceback (most recent call last):\\n  File \\\"/u/11/zhangz13/unix/myenv/lib/python3.10/site-packages/great_expectations/data_asset/data_asset.py\\\", line 275, in wrapper\\n    return_obj = func(self, **evaluation_args)\\n  File \\\"/u/11/zhangz13/unix/myenv/lib/python3.10/site-packages/great_expectations/dataset/pandas_dataset.py\\\", line 111, in inner_wrapper\\n    boolean_mapped_success_values = func(self, nonnull_values, *args, **kwargs)\\n  File \\\"/u/11/zhangz13/unix/myenv/lib/python3.10/site-packages/great_expectations/dataset/pandas_dataset.py\\\", line 1235, in expect_column_values_to_be_between\\n    raise TypeError(\\nTypeError: Column values, min_value, and max_value must either be None or of the same type.\\n\"\n",
      "      }\n",
      "    },\n",
      "    {\n",
      "      \"meta\": {},\n",
      "      \"expectation_config\": {\n",
      "        \"expectation_type\": \"expect_column_values_to_be_between\",\n",
      "        \"meta\": {},\n",
      "        \"kwargs\": {\n",
      "          \"column\": \"citric_acid\",\n",
      "          \"min_value\": 0,\n",
      "          \"max_value\": 7.5,\n",
      "          \"result_format\": \"SUMMARY\"\n",
      "        }\n",
      "      },\n",
      "      \"success\": false,\n",
      "      \"result\": {},\n",
      "      \"exception_info\": {\n",
      "        \"raised_exception\": true,\n",
      "        \"exception_message\": \"TypeError: Column values, min_value, and max_value must either be None or of the same type.\",\n",
      "        \"exception_traceback\": \"Traceback (most recent call last):\\n  File \\\"/u/11/zhangz13/unix/myenv/lib/python3.10/site-packages/great_expectations/dataset/pandas_dataset.py\\\", line 1231, in expect_column_values_to_be_between\\n    return min_comparator(temp_column) & max_comparator(temp_column)\\n  File \\\"/u/11/zhangz13/unix/myenv/lib/python3.10/site-packages/great_expectations/dataset/pandas_dataset.py\\\", line 1214, in new_comparator\\n    return comparator(value, comparison_value)\\n  File \\\"/u/11/zhangz13/unix/myenv/lib/python3.10/site-packages/pandas/core/ops/common.py\\\", line 81, in new_method\\n    return method(self, other)\\n  File \\\"/u/11/zhangz13/unix/myenv/lib/python3.10/site-packages/pandas/core/arraylike.py\\\", line 60, in __ge__\\n    return self._cmp_method(other, operator.ge)\\n  File \\\"/u/11/zhangz13/unix/myenv/lib/python3.10/site-packages/pandas/core/series.py\\\", line 6096, in _cmp_method\\n    res_values = ops.comparison_op(lvalues, rvalues, op)\\n  File \\\"/u/11/zhangz13/unix/myenv/lib/python3.10/site-packages/pandas/core/ops/array_ops.py\\\", line 293, in comparison_op\\n    res_values = comp_method_OBJECT_ARRAY(op, lvalues, rvalues)\\n  File \\\"/u/11/zhangz13/unix/myenv/lib/python3.10/site-packages/pandas/core/ops/array_ops.py\\\", line 82, in comp_method_OBJECT_ARRAY\\n    result = libops.scalar_compare(x.ravel(), y, op)\\n  File \\\"pandas/_libs/ops.pyx\\\", line 107, in pandas._libs.ops.scalar_compare\\nTypeError: '>=' not supported between instances of 'list' and 'int'\\n\\nDuring handling of the above exception, another exception occurred:\\n\\nTraceback (most recent call last):\\n  File \\\"/u/11/zhangz13/unix/myenv/lib/python3.10/site-packages/great_expectations/data_asset/data_asset.py\\\", line 275, in wrapper\\n    return_obj = func(self, **evaluation_args)\\n  File \\\"/u/11/zhangz13/unix/myenv/lib/python3.10/site-packages/great_expectations/dataset/pandas_dataset.py\\\", line 111, in inner_wrapper\\n    boolean_mapped_success_values = func(self, nonnull_values, *args, **kwargs)\\n  File \\\"/u/11/zhangz13/unix/myenv/lib/python3.10/site-packages/great_expectations/dataset/pandas_dataset.py\\\", line 1235, in expect_column_values_to_be_between\\n    raise TypeError(\\nTypeError: Column values, min_value, and max_value must either be None or of the same type.\\n\"\n",
      "      }\n",
      "    },\n",
      "    {\n",
      "      \"meta\": {},\n",
      "      \"expectation_config\": {\n",
      "        \"expectation_type\": \"expect_column_values_to_be_between\",\n",
      "        \"meta\": {},\n",
      "        \"kwargs\": {\n",
      "          \"column\": \"residual_sugar\",\n",
      "          \"min_value\": 0.3,\n",
      "          \"max_value\": 66,\n",
      "          \"result_format\": \"SUMMARY\"\n",
      "        }\n",
      "      },\n",
      "      \"success\": false,\n",
      "      \"result\": {},\n",
      "      \"exception_info\": {\n",
      "        \"raised_exception\": true,\n",
      "        \"exception_message\": \"TypeError: Column values, min_value, and max_value must either be None or of the same type.\",\n",
      "        \"exception_traceback\": \"Traceback (most recent call last):\\n  File \\\"/u/11/zhangz13/unix/myenv/lib/python3.10/site-packages/great_expectations/dataset/pandas_dataset.py\\\", line 1231, in expect_column_values_to_be_between\\n    return min_comparator(temp_column) & max_comparator(temp_column)\\n  File \\\"/u/11/zhangz13/unix/myenv/lib/python3.10/site-packages/great_expectations/dataset/pandas_dataset.py\\\", line 1214, in new_comparator\\n    return comparator(value, comparison_value)\\n  File \\\"/u/11/zhangz13/unix/myenv/lib/python3.10/site-packages/pandas/core/ops/common.py\\\", line 81, in new_method\\n    return method(self, other)\\n  File \\\"/u/11/zhangz13/unix/myenv/lib/python3.10/site-packages/pandas/core/arraylike.py\\\", line 60, in __ge__\\n    return self._cmp_method(other, operator.ge)\\n  File \\\"/u/11/zhangz13/unix/myenv/lib/python3.10/site-packages/pandas/core/series.py\\\", line 6096, in _cmp_method\\n    res_values = ops.comparison_op(lvalues, rvalues, op)\\n  File \\\"/u/11/zhangz13/unix/myenv/lib/python3.10/site-packages/pandas/core/ops/array_ops.py\\\", line 293, in comparison_op\\n    res_values = comp_method_OBJECT_ARRAY(op, lvalues, rvalues)\\n  File \\\"/u/11/zhangz13/unix/myenv/lib/python3.10/site-packages/pandas/core/ops/array_ops.py\\\", line 82, in comp_method_OBJECT_ARRAY\\n    result = libops.scalar_compare(x.ravel(), y, op)\\n  File \\\"pandas/_libs/ops.pyx\\\", line 107, in pandas._libs.ops.scalar_compare\\nTypeError: '>=' not supported between instances of 'list' and 'float'\\n\\nDuring handling of the above exception, another exception occurred:\\n\\nTraceback (most recent call last):\\n  File \\\"/u/11/zhangz13/unix/myenv/lib/python3.10/site-packages/great_expectations/data_asset/data_asset.py\\\", line 275, in wrapper\\n    return_obj = func(self, **evaluation_args)\\n  File \\\"/u/11/zhangz13/unix/myenv/lib/python3.10/site-packages/great_expectations/dataset/pandas_dataset.py\\\", line 111, in inner_wrapper\\n    boolean_mapped_success_values = func(self, nonnull_values, *args, **kwargs)\\n  File \\\"/u/11/zhangz13/unix/myenv/lib/python3.10/site-packages/great_expectations/dataset/pandas_dataset.py\\\", line 1235, in expect_column_values_to_be_between\\n    raise TypeError(\\nTypeError: Column values, min_value, and max_value must either be None or of the same type.\\n\"\n",
      "      }\n",
      "    },\n",
      "    {\n",
      "      \"meta\": {},\n",
      "      \"expectation_config\": {\n",
      "        \"expectation_type\": \"expect_column_values_to_be_between\",\n",
      "        \"meta\": {},\n",
      "        \"kwargs\": {\n",
      "          \"column\": \"chlorides\",\n",
      "          \"min_value\": 0,\n",
      "          \"max_value\": 0.65,\n",
      "          \"result_format\": \"SUMMARY\"\n",
      "        }\n",
      "      },\n",
      "      \"success\": false,\n",
      "      \"result\": {},\n",
      "      \"exception_info\": {\n",
      "        \"raised_exception\": true,\n",
      "        \"exception_message\": \"TypeError: Column values, min_value, and max_value must either be None or of the same type.\",\n",
      "        \"exception_traceback\": \"Traceback (most recent call last):\\n  File \\\"/u/11/zhangz13/unix/myenv/lib/python3.10/site-packages/great_expectations/dataset/pandas_dataset.py\\\", line 1231, in expect_column_values_to_be_between\\n    return min_comparator(temp_column) & max_comparator(temp_column)\\n  File \\\"/u/11/zhangz13/unix/myenv/lib/python3.10/site-packages/great_expectations/dataset/pandas_dataset.py\\\", line 1214, in new_comparator\\n    return comparator(value, comparison_value)\\n  File \\\"/u/11/zhangz13/unix/myenv/lib/python3.10/site-packages/pandas/core/ops/common.py\\\", line 81, in new_method\\n    return method(self, other)\\n  File \\\"/u/11/zhangz13/unix/myenv/lib/python3.10/site-packages/pandas/core/arraylike.py\\\", line 60, in __ge__\\n    return self._cmp_method(other, operator.ge)\\n  File \\\"/u/11/zhangz13/unix/myenv/lib/python3.10/site-packages/pandas/core/series.py\\\", line 6096, in _cmp_method\\n    res_values = ops.comparison_op(lvalues, rvalues, op)\\n  File \\\"/u/11/zhangz13/unix/myenv/lib/python3.10/site-packages/pandas/core/ops/array_ops.py\\\", line 293, in comparison_op\\n    res_values = comp_method_OBJECT_ARRAY(op, lvalues, rvalues)\\n  File \\\"/u/11/zhangz13/unix/myenv/lib/python3.10/site-packages/pandas/core/ops/array_ops.py\\\", line 82, in comp_method_OBJECT_ARRAY\\n    result = libops.scalar_compare(x.ravel(), y, op)\\n  File \\\"pandas/_libs/ops.pyx\\\", line 107, in pandas._libs.ops.scalar_compare\\nTypeError: '>=' not supported between instances of 'list' and 'int'\\n\\nDuring handling of the above exception, another exception occurred:\\n\\nTraceback (most recent call last):\\n  File \\\"/u/11/zhangz13/unix/myenv/lib/python3.10/site-packages/great_expectations/data_asset/data_asset.py\\\", line 275, in wrapper\\n    return_obj = func(self, **evaluation_args)\\n  File \\\"/u/11/zhangz13/unix/myenv/lib/python3.10/site-packages/great_expectations/dataset/pandas_dataset.py\\\", line 111, in inner_wrapper\\n    boolean_mapped_success_values = func(self, nonnull_values, *args, **kwargs)\\n  File \\\"/u/11/zhangz13/unix/myenv/lib/python3.10/site-packages/great_expectations/dataset/pandas_dataset.py\\\", line 1235, in expect_column_values_to_be_between\\n    raise TypeError(\\nTypeError: Column values, min_value, and max_value must either be None or of the same type.\\n\"\n",
      "      }\n",
      "    },\n",
      "    {\n",
      "      \"meta\": {},\n",
      "      \"expectation_config\": {\n",
      "        \"expectation_type\": \"expect_column_values_to_be_between\",\n",
      "        \"meta\": {},\n",
      "        \"kwargs\": {\n",
      "          \"column\": \"free_sulfur_dioxide\",\n",
      "          \"min_value\": 0.8,\n",
      "          \"max_value\": 290,\n",
      "          \"result_format\": \"SUMMARY\"\n",
      "        }\n",
      "      },\n",
      "      \"success\": false,\n",
      "      \"result\": {},\n",
      "      \"exception_info\": {\n",
      "        \"raised_exception\": true,\n",
      "        \"exception_message\": \"TypeError: Column values, min_value, and max_value must either be None or of the same type.\",\n",
      "        \"exception_traceback\": \"Traceback (most recent call last):\\n  File \\\"/u/11/zhangz13/unix/myenv/lib/python3.10/site-packages/great_expectations/dataset/pandas_dataset.py\\\", line 1231, in expect_column_values_to_be_between\\n    return min_comparator(temp_column) & max_comparator(temp_column)\\n  File \\\"/u/11/zhangz13/unix/myenv/lib/python3.10/site-packages/great_expectations/dataset/pandas_dataset.py\\\", line 1214, in new_comparator\\n    return comparator(value, comparison_value)\\n  File \\\"/u/11/zhangz13/unix/myenv/lib/python3.10/site-packages/pandas/core/ops/common.py\\\", line 81, in new_method\\n    return method(self, other)\\n  File \\\"/u/11/zhangz13/unix/myenv/lib/python3.10/site-packages/pandas/core/arraylike.py\\\", line 60, in __ge__\\n    return self._cmp_method(other, operator.ge)\\n  File \\\"/u/11/zhangz13/unix/myenv/lib/python3.10/site-packages/pandas/core/series.py\\\", line 6096, in _cmp_method\\n    res_values = ops.comparison_op(lvalues, rvalues, op)\\n  File \\\"/u/11/zhangz13/unix/myenv/lib/python3.10/site-packages/pandas/core/ops/array_ops.py\\\", line 293, in comparison_op\\n    res_values = comp_method_OBJECT_ARRAY(op, lvalues, rvalues)\\n  File \\\"/u/11/zhangz13/unix/myenv/lib/python3.10/site-packages/pandas/core/ops/array_ops.py\\\", line 82, in comp_method_OBJECT_ARRAY\\n    result = libops.scalar_compare(x.ravel(), y, op)\\n  File \\\"pandas/_libs/ops.pyx\\\", line 107, in pandas._libs.ops.scalar_compare\\nTypeError: '>=' not supported between instances of 'list' and 'float'\\n\\nDuring handling of the above exception, another exception occurred:\\n\\nTraceback (most recent call last):\\n  File \\\"/u/11/zhangz13/unix/myenv/lib/python3.10/site-packages/great_expectations/data_asset/data_asset.py\\\", line 275, in wrapper\\n    return_obj = func(self, **evaluation_args)\\n  File \\\"/u/11/zhangz13/unix/myenv/lib/python3.10/site-packages/great_expectations/dataset/pandas_dataset.py\\\", line 111, in inner_wrapper\\n    boolean_mapped_success_values = func(self, nonnull_values, *args, **kwargs)\\n  File \\\"/u/11/zhangz13/unix/myenv/lib/python3.10/site-packages/great_expectations/dataset/pandas_dataset.py\\\", line 1235, in expect_column_values_to_be_between\\n    raise TypeError(\\nTypeError: Column values, min_value, and max_value must either be None or of the same type.\\n\"\n",
      "      }\n",
      "    },\n",
      "    {\n",
      "      \"meta\": {},\n",
      "      \"expectation_config\": {\n",
      "        \"expectation_type\": \"expect_column_values_to_be_between\",\n",
      "        \"meta\": {},\n",
      "        \"kwargs\": {\n",
      "          \"column\": \"total_sulfur_dioxide\",\n",
      "          \"min_value\": 5.5,\n",
      "          \"max_value\": 450,\n",
      "          \"result_format\": \"SUMMARY\"\n",
      "        }\n",
      "      },\n",
      "      \"success\": false,\n",
      "      \"result\": {},\n",
      "      \"exception_info\": {\n",
      "        \"raised_exception\": true,\n",
      "        \"exception_message\": \"TypeError: Column values, min_value, and max_value must either be None or of the same type.\",\n",
      "        \"exception_traceback\": \"Traceback (most recent call last):\\n  File \\\"/u/11/zhangz13/unix/myenv/lib/python3.10/site-packages/great_expectations/dataset/pandas_dataset.py\\\", line 1231, in expect_column_values_to_be_between\\n    return min_comparator(temp_column) & max_comparator(temp_column)\\n  File \\\"/u/11/zhangz13/unix/myenv/lib/python3.10/site-packages/great_expectations/dataset/pandas_dataset.py\\\", line 1214, in new_comparator\\n    return comparator(value, comparison_value)\\n  File \\\"/u/11/zhangz13/unix/myenv/lib/python3.10/site-packages/pandas/core/ops/common.py\\\", line 81, in new_method\\n    return method(self, other)\\n  File \\\"/u/11/zhangz13/unix/myenv/lib/python3.10/site-packages/pandas/core/arraylike.py\\\", line 60, in __ge__\\n    return self._cmp_method(other, operator.ge)\\n  File \\\"/u/11/zhangz13/unix/myenv/lib/python3.10/site-packages/pandas/core/series.py\\\", line 6096, in _cmp_method\\n    res_values = ops.comparison_op(lvalues, rvalues, op)\\n  File \\\"/u/11/zhangz13/unix/myenv/lib/python3.10/site-packages/pandas/core/ops/array_ops.py\\\", line 293, in comparison_op\\n    res_values = comp_method_OBJECT_ARRAY(op, lvalues, rvalues)\\n  File \\\"/u/11/zhangz13/unix/myenv/lib/python3.10/site-packages/pandas/core/ops/array_ops.py\\\", line 82, in comp_method_OBJECT_ARRAY\\n    result = libops.scalar_compare(x.ravel(), y, op)\\n  File \\\"pandas/_libs/ops.pyx\\\", line 107, in pandas._libs.ops.scalar_compare\\nTypeError: '>=' not supported between instances of 'list' and 'float'\\n\\nDuring handling of the above exception, another exception occurred:\\n\\nTraceback (most recent call last):\\n  File \\\"/u/11/zhangz13/unix/myenv/lib/python3.10/site-packages/great_expectations/data_asset/data_asset.py\\\", line 275, in wrapper\\n    return_obj = func(self, **evaluation_args)\\n  File \\\"/u/11/zhangz13/unix/myenv/lib/python3.10/site-packages/great_expectations/dataset/pandas_dataset.py\\\", line 111, in inner_wrapper\\n    boolean_mapped_success_values = func(self, nonnull_values, *args, **kwargs)\\n  File \\\"/u/11/zhangz13/unix/myenv/lib/python3.10/site-packages/great_expectations/dataset/pandas_dataset.py\\\", line 1235, in expect_column_values_to_be_between\\n    raise TypeError(\\nTypeError: Column values, min_value, and max_value must either be None or of the same type.\\n\"\n",
      "      }\n",
      "    },\n",
      "    {\n",
      "      \"meta\": {},\n",
      "      \"expectation_config\": {\n",
      "        \"expectation_type\": \"expect_column_values_to_be_between\",\n",
      "        \"meta\": {},\n",
      "        \"kwargs\": {\n",
      "          \"column\": \"density\",\n",
      "          \"min_value\": 0.95,\n",
      "          \"max_value\": 1.03,\n",
      "          \"result_format\": \"SUMMARY\"\n",
      "        }\n",
      "      },\n",
      "      \"success\": false,\n",
      "      \"result\": {},\n",
      "      \"exception_info\": {\n",
      "        \"raised_exception\": true,\n",
      "        \"exception_message\": \"TypeError: Column values, min_value, and max_value must either be None or of the same type.\",\n",
      "        \"exception_traceback\": \"Traceback (most recent call last):\\n  File \\\"/u/11/zhangz13/unix/myenv/lib/python3.10/site-packages/great_expectations/dataset/pandas_dataset.py\\\", line 1231, in expect_column_values_to_be_between\\n    return min_comparator(temp_column) & max_comparator(temp_column)\\n  File \\\"/u/11/zhangz13/unix/myenv/lib/python3.10/site-packages/great_expectations/dataset/pandas_dataset.py\\\", line 1214, in new_comparator\\n    return comparator(value, comparison_value)\\n  File \\\"/u/11/zhangz13/unix/myenv/lib/python3.10/site-packages/pandas/core/ops/common.py\\\", line 81, in new_method\\n    return method(self, other)\\n  File \\\"/u/11/zhangz13/unix/myenv/lib/python3.10/site-packages/pandas/core/arraylike.py\\\", line 60, in __ge__\\n    return self._cmp_method(other, operator.ge)\\n  File \\\"/u/11/zhangz13/unix/myenv/lib/python3.10/site-packages/pandas/core/series.py\\\", line 6096, in _cmp_method\\n    res_values = ops.comparison_op(lvalues, rvalues, op)\\n  File \\\"/u/11/zhangz13/unix/myenv/lib/python3.10/site-packages/pandas/core/ops/array_ops.py\\\", line 293, in comparison_op\\n    res_values = comp_method_OBJECT_ARRAY(op, lvalues, rvalues)\\n  File \\\"/u/11/zhangz13/unix/myenv/lib/python3.10/site-packages/pandas/core/ops/array_ops.py\\\", line 82, in comp_method_OBJECT_ARRAY\\n    result = libops.scalar_compare(x.ravel(), y, op)\\n  File \\\"pandas/_libs/ops.pyx\\\", line 107, in pandas._libs.ops.scalar_compare\\nTypeError: '>=' not supported between instances of 'list' and 'float'\\n\\nDuring handling of the above exception, another exception occurred:\\n\\nTraceback (most recent call last):\\n  File \\\"/u/11/zhangz13/unix/myenv/lib/python3.10/site-packages/great_expectations/data_asset/data_asset.py\\\", line 275, in wrapper\\n    return_obj = func(self, **evaluation_args)\\n  File \\\"/u/11/zhangz13/unix/myenv/lib/python3.10/site-packages/great_expectations/dataset/pandas_dataset.py\\\", line 111, in inner_wrapper\\n    boolean_mapped_success_values = func(self, nonnull_values, *args, **kwargs)\\n  File \\\"/u/11/zhangz13/unix/myenv/lib/python3.10/site-packages/great_expectations/dataset/pandas_dataset.py\\\", line 1235, in expect_column_values_to_be_between\\n    raise TypeError(\\nTypeError: Column values, min_value, and max_value must either be None or of the same type.\\n\"\n",
      "      }\n",
      "    },\n",
      "    {\n",
      "      \"meta\": {},\n",
      "      \"expectation_config\": {\n",
      "        \"expectation_type\": \"expect_column_values_to_be_between\",\n",
      "        \"meta\": {},\n",
      "        \"kwargs\": {\n",
      "          \"column\": \"ph\",\n",
      "          \"min_value\": 0.3,\n",
      "          \"max_value\": 4.5,\n",
      "          \"result_format\": \"SUMMARY\"\n",
      "        }\n",
      "      },\n",
      "      \"success\": false,\n",
      "      \"result\": {},\n",
      "      \"exception_info\": {\n",
      "        \"raised_exception\": true,\n",
      "        \"exception_message\": \"TypeError: Column values, min_value, and max_value must either be None or of the same type.\",\n",
      "        \"exception_traceback\": \"Traceback (most recent call last):\\n  File \\\"/u/11/zhangz13/unix/myenv/lib/python3.10/site-packages/great_expectations/dataset/pandas_dataset.py\\\", line 1231, in expect_column_values_to_be_between\\n    return min_comparator(temp_column) & max_comparator(temp_column)\\n  File \\\"/u/11/zhangz13/unix/myenv/lib/python3.10/site-packages/great_expectations/dataset/pandas_dataset.py\\\", line 1214, in new_comparator\\n    return comparator(value, comparison_value)\\n  File \\\"/u/11/zhangz13/unix/myenv/lib/python3.10/site-packages/pandas/core/ops/common.py\\\", line 81, in new_method\\n    return method(self, other)\\n  File \\\"/u/11/zhangz13/unix/myenv/lib/python3.10/site-packages/pandas/core/arraylike.py\\\", line 60, in __ge__\\n    return self._cmp_method(other, operator.ge)\\n  File \\\"/u/11/zhangz13/unix/myenv/lib/python3.10/site-packages/pandas/core/series.py\\\", line 6096, in _cmp_method\\n    res_values = ops.comparison_op(lvalues, rvalues, op)\\n  File \\\"/u/11/zhangz13/unix/myenv/lib/python3.10/site-packages/pandas/core/ops/array_ops.py\\\", line 293, in comparison_op\\n    res_values = comp_method_OBJECT_ARRAY(op, lvalues, rvalues)\\n  File \\\"/u/11/zhangz13/unix/myenv/lib/python3.10/site-packages/pandas/core/ops/array_ops.py\\\", line 82, in comp_method_OBJECT_ARRAY\\n    result = libops.scalar_compare(x.ravel(), y, op)\\n  File \\\"pandas/_libs/ops.pyx\\\", line 107, in pandas._libs.ops.scalar_compare\\nTypeError: '>=' not supported between instances of 'list' and 'float'\\n\\nDuring handling of the above exception, another exception occurred:\\n\\nTraceback (most recent call last):\\n  File \\\"/u/11/zhangz13/unix/myenv/lib/python3.10/site-packages/great_expectations/data_asset/data_asset.py\\\", line 275, in wrapper\\n    return_obj = func(self, **evaluation_args)\\n  File \\\"/u/11/zhangz13/unix/myenv/lib/python3.10/site-packages/great_expectations/dataset/pandas_dataset.py\\\", line 111, in inner_wrapper\\n    boolean_mapped_success_values = func(self, nonnull_values, *args, **kwargs)\\n  File \\\"/u/11/zhangz13/unix/myenv/lib/python3.10/site-packages/great_expectations/dataset/pandas_dataset.py\\\", line 1235, in expect_column_values_to_be_between\\n    raise TypeError(\\nTypeError: Column values, min_value, and max_value must either be None or of the same type.\\n\"\n",
      "      }\n",
      "    },\n",
      "    {\n",
      "      \"meta\": {},\n",
      "      \"expectation_config\": {\n",
      "        \"expectation_type\": \"expect_column_values_to_be_between\",\n",
      "        \"meta\": {},\n",
      "        \"kwargs\": {\n",
      "          \"column\": \"sulphates\",\n",
      "          \"min_value\": 0.2,\n",
      "          \"max_value\": 2.5,\n",
      "          \"result_format\": \"SUMMARY\"\n",
      "        }\n",
      "      },\n",
      "      \"success\": false,\n",
      "      \"result\": {},\n",
      "      \"exception_info\": {\n",
      "        \"raised_exception\": true,\n",
      "        \"exception_message\": \"TypeError: Column values, min_value, and max_value must either be None or of the same type.\",\n",
      "        \"exception_traceback\": \"Traceback (most recent call last):\\n  File \\\"/u/11/zhangz13/unix/myenv/lib/python3.10/site-packages/great_expectations/dataset/pandas_dataset.py\\\", line 1231, in expect_column_values_to_be_between\\n    return min_comparator(temp_column) & max_comparator(temp_column)\\n  File \\\"/u/11/zhangz13/unix/myenv/lib/python3.10/site-packages/great_expectations/dataset/pandas_dataset.py\\\", line 1214, in new_comparator\\n    return comparator(value, comparison_value)\\n  File \\\"/u/11/zhangz13/unix/myenv/lib/python3.10/site-packages/pandas/core/ops/common.py\\\", line 81, in new_method\\n    return method(self, other)\\n  File \\\"/u/11/zhangz13/unix/myenv/lib/python3.10/site-packages/pandas/core/arraylike.py\\\", line 60, in __ge__\\n    return self._cmp_method(other, operator.ge)\\n  File \\\"/u/11/zhangz13/unix/myenv/lib/python3.10/site-packages/pandas/core/series.py\\\", line 6096, in _cmp_method\\n    res_values = ops.comparison_op(lvalues, rvalues, op)\\n  File \\\"/u/11/zhangz13/unix/myenv/lib/python3.10/site-packages/pandas/core/ops/array_ops.py\\\", line 293, in comparison_op\\n    res_values = comp_method_OBJECT_ARRAY(op, lvalues, rvalues)\\n  File \\\"/u/11/zhangz13/unix/myenv/lib/python3.10/site-packages/pandas/core/ops/array_ops.py\\\", line 82, in comp_method_OBJECT_ARRAY\\n    result = libops.scalar_compare(x.ravel(), y, op)\\n  File \\\"pandas/_libs/ops.pyx\\\", line 107, in pandas._libs.ops.scalar_compare\\nTypeError: '>=' not supported between instances of 'list' and 'float'\\n\\nDuring handling of the above exception, another exception occurred:\\n\\nTraceback (most recent call last):\\n  File \\\"/u/11/zhangz13/unix/myenv/lib/python3.10/site-packages/great_expectations/data_asset/data_asset.py\\\", line 275, in wrapper\\n    return_obj = func(self, **evaluation_args)\\n  File \\\"/u/11/zhangz13/unix/myenv/lib/python3.10/site-packages/great_expectations/dataset/pandas_dataset.py\\\", line 111, in inner_wrapper\\n    boolean_mapped_success_values = func(self, nonnull_values, *args, **kwargs)\\n  File \\\"/u/11/zhangz13/unix/myenv/lib/python3.10/site-packages/great_expectations/dataset/pandas_dataset.py\\\", line 1235, in expect_column_values_to_be_between\\n    raise TypeError(\\nTypeError: Column values, min_value, and max_value must either be None or of the same type.\\n\"\n",
      "      }\n",
      "    },\n",
      "    {\n",
      "      \"meta\": {},\n",
      "      \"expectation_config\": {\n",
      "        \"expectation_type\": \"expect_column_values_to_be_between\",\n",
      "        \"meta\": {},\n",
      "        \"kwargs\": {\n",
      "          \"column\": \"alcohol\",\n",
      "          \"min_value\": 7.8,\n",
      "          \"max_value\": 15.5,\n",
      "          \"result_format\": \"SUMMARY\"\n",
      "        }\n",
      "      },\n",
      "      \"success\": false,\n",
      "      \"result\": {},\n",
      "      \"exception_info\": {\n",
      "        \"raised_exception\": true,\n",
      "        \"exception_message\": \"TypeError: Column values, min_value, and max_value must either be None or of the same type.\",\n",
      "        \"exception_traceback\": \"Traceback (most recent call last):\\n  File \\\"/u/11/zhangz13/unix/myenv/lib/python3.10/site-packages/great_expectations/dataset/pandas_dataset.py\\\", line 1231, in expect_column_values_to_be_between\\n    return min_comparator(temp_column) & max_comparator(temp_column)\\n  File \\\"/u/11/zhangz13/unix/myenv/lib/python3.10/site-packages/great_expectations/dataset/pandas_dataset.py\\\", line 1214, in new_comparator\\n    return comparator(value, comparison_value)\\n  File \\\"/u/11/zhangz13/unix/myenv/lib/python3.10/site-packages/pandas/core/ops/common.py\\\", line 81, in new_method\\n    return method(self, other)\\n  File \\\"/u/11/zhangz13/unix/myenv/lib/python3.10/site-packages/pandas/core/arraylike.py\\\", line 60, in __ge__\\n    return self._cmp_method(other, operator.ge)\\n  File \\\"/u/11/zhangz13/unix/myenv/lib/python3.10/site-packages/pandas/core/series.py\\\", line 6096, in _cmp_method\\n    res_values = ops.comparison_op(lvalues, rvalues, op)\\n  File \\\"/u/11/zhangz13/unix/myenv/lib/python3.10/site-packages/pandas/core/ops/array_ops.py\\\", line 293, in comparison_op\\n    res_values = comp_method_OBJECT_ARRAY(op, lvalues, rvalues)\\n  File \\\"/u/11/zhangz13/unix/myenv/lib/python3.10/site-packages/pandas/core/ops/array_ops.py\\\", line 82, in comp_method_OBJECT_ARRAY\\n    result = libops.scalar_compare(x.ravel(), y, op)\\n  File \\\"pandas/_libs/ops.pyx\\\", line 107, in pandas._libs.ops.scalar_compare\\nTypeError: '>=' not supported between instances of 'list' and 'float'\\n\\nDuring handling of the above exception, another exception occurred:\\n\\nTraceback (most recent call last):\\n  File \\\"/u/11/zhangz13/unix/myenv/lib/python3.10/site-packages/great_expectations/data_asset/data_asset.py\\\", line 275, in wrapper\\n    return_obj = func(self, **evaluation_args)\\n  File \\\"/u/11/zhangz13/unix/myenv/lib/python3.10/site-packages/great_expectations/dataset/pandas_dataset.py\\\", line 111, in inner_wrapper\\n    boolean_mapped_success_values = func(self, nonnull_values, *args, **kwargs)\\n  File \\\"/u/11/zhangz13/unix/myenv/lib/python3.10/site-packages/great_expectations/dataset/pandas_dataset.py\\\", line 1235, in expect_column_values_to_be_between\\n    raise TypeError(\\nTypeError: Column values, min_value, and max_value must either be None or of the same type.\\n\"\n",
      "      }\n",
      "    },\n",
      "    {\n",
      "      \"meta\": {},\n",
      "      \"expectation_config\": {\n",
      "        \"expectation_type\": \"expect_column_values_to_be_between\",\n",
      "        \"meta\": {},\n",
      "        \"kwargs\": {\n",
      "          \"column\": \"quality\",\n",
      "          \"min_value\": 0,\n",
      "          \"max_value\": 2,\n",
      "          \"result_format\": \"SUMMARY\"\n",
      "        }\n",
      "      },\n",
      "      \"success\": false,\n",
      "      \"result\": {},\n",
      "      \"exception_info\": {\n",
      "        \"raised_exception\": true,\n",
      "        \"exception_message\": \"TypeError: Column values, min_value, and max_value must either be None or of the same type.\",\n",
      "        \"exception_traceback\": \"Traceback (most recent call last):\\n  File \\\"/u/11/zhangz13/unix/myenv/lib/python3.10/site-packages/great_expectations/dataset/pandas_dataset.py\\\", line 1231, in expect_column_values_to_be_between\\n    return min_comparator(temp_column) & max_comparator(temp_column)\\n  File \\\"/u/11/zhangz13/unix/myenv/lib/python3.10/site-packages/great_expectations/dataset/pandas_dataset.py\\\", line 1214, in new_comparator\\n    return comparator(value, comparison_value)\\n  File \\\"/u/11/zhangz13/unix/myenv/lib/python3.10/site-packages/pandas/core/ops/common.py\\\", line 81, in new_method\\n    return method(self, other)\\n  File \\\"/u/11/zhangz13/unix/myenv/lib/python3.10/site-packages/pandas/core/arraylike.py\\\", line 60, in __ge__\\n    return self._cmp_method(other, operator.ge)\\n  File \\\"/u/11/zhangz13/unix/myenv/lib/python3.10/site-packages/pandas/core/series.py\\\", line 6096, in _cmp_method\\n    res_values = ops.comparison_op(lvalues, rvalues, op)\\n  File \\\"/u/11/zhangz13/unix/myenv/lib/python3.10/site-packages/pandas/core/ops/array_ops.py\\\", line 293, in comparison_op\\n    res_values = comp_method_OBJECT_ARRAY(op, lvalues, rvalues)\\n  File \\\"/u/11/zhangz13/unix/myenv/lib/python3.10/site-packages/pandas/core/ops/array_ops.py\\\", line 82, in comp_method_OBJECT_ARRAY\\n    result = libops.scalar_compare(x.ravel(), y, op)\\n  File \\\"pandas/_libs/ops.pyx\\\", line 107, in pandas._libs.ops.scalar_compare\\nTypeError: '>=' not supported between instances of 'list' and 'int'\\n\\nDuring handling of the above exception, another exception occurred:\\n\\nTraceback (most recent call last):\\n  File \\\"/u/11/zhangz13/unix/myenv/lib/python3.10/site-packages/great_expectations/data_asset/data_asset.py\\\", line 275, in wrapper\\n    return_obj = func(self, **evaluation_args)\\n  File \\\"/u/11/zhangz13/unix/myenv/lib/python3.10/site-packages/great_expectations/dataset/pandas_dataset.py\\\", line 111, in inner_wrapper\\n    boolean_mapped_success_values = func(self, nonnull_values, *args, **kwargs)\\n  File \\\"/u/11/zhangz13/unix/myenv/lib/python3.10/site-packages/great_expectations/dataset/pandas_dataset.py\\\", line 1235, in expect_column_values_to_be_between\\n    raise TypeError(\\nTypeError: Column values, min_value, and max_value must either be None or of the same type.\\n\"\n",
      "      }\n",
      "    }\n",
      "  ],\n",
      "  \"success\": false\n",
      "}\n"
     ]
    }
   ],
   "source": [
    "\n",
    "import pandas as pd\n",
    "import random\n",
    "from great_expectations.dataset import PandasDataset\n",
    "from great_expectations.core import ExpectationSuite, ExpectationConfiguration\n",
    "\n",
    "def expect(suite, column, min_val, max_val):\n",
    "    suite.add_expectation(\n",
    "    ExpectationConfiguration(\n",
    "        expectation_type=\"expect_column_values_to_be_between\",\n",
    "        kwargs={\n",
    "            \"column\":column, \n",
    "            \"min_value\":min_val,\n",
    "            \"max_value\":max_val,\n",
    "        }\n",
    "    )\n",
    ")\n",
    "suite = ExpectationSuite(expectation_suite_name=\"wine_dimensions\")\n",
    "expect(suite, \"fixed_acidity\", 3.5, 16.0)\n",
    "expect(suite, \"volatile_acidity\", 0.06,1.60)\n",
    "expect(suite, \"citric_acid\", 0.0,7.5)\n",
    "expect(suite, \"residual_sugar\", 0.3,66.0)\n",
    "expect(suite, \"chlorides\", 0.00,0.65)\n",
    "expect(suite, \"free_sulfur_dioxide\", 0.8,290.0)\n",
    "expect(suite, \"total_sulfur_dioxide\", 5.5,450.0)\n",
    "expect(suite, \"density\", 0.95,1.03)\n",
    "expect(suite, \"ph\", 0.3,4.5)\n",
    "expect(suite, \"sulphates\", 0.2, 2.5)\n",
    "expect(suite, \"alcohol\", 7.8, 15.5)\n",
    "expect(suite, \"quality\", 0,2)\n",
    "\n",
    "\n",
    "def generate_synthetic_wine(seed):\n",
    "    random.seed(seed)\n",
    "    return {\n",
    "        \"fixed_acidity\": 5.0,  \n",
    "        \"volatile_acidity\": 0.51,\n",
    "        \"citric_acid\": 0.3,\n",
    "        \"residual_sugar\":1.0,\n",
    "        \"chlorides\":0.55,\n",
    "        \"free_sulfur_dioxide\":30.0,\n",
    "        \"total_sulfur_dioxide\":32.0,\n",
    "        \"density\":0.98,\n",
    "        \"ph\":3.6,\n",
    "        \"sulphates\":random.uniform(1.3, 1.5),\n",
    "        \"alcohol\":11.5,\n",
    "        \"quality\":1\n",
    "    }\n",
    "\n",
    "wine_fg = fs.get_or_create_feature_group(\n",
    "    name=\"wine_2\",\n",
    "    version=5,\n",
    "    primary_key=[\"fixed_acidity\",\"volatile_acidity\",\"citric_acid\", \"residual_sugar\"\t,\"chlorides\",\t\n",
    "                 \"free_sulfur_dioxide\",\t\"total_sulfur_dioxide\",\t\"density\",\"pH\",\"sulphates\",\"alcohol\",\"quality\"], \n",
    "    description=\"For new wine data\")\n",
    "\n",
    "num_samples = 10  # Number of synthetic samples to generate\n",
    "\n",
    "synthetic_wines_new1 = [generate_synthetic_wine(seed=i) for i in range(num_samples-1)]\n",
    "# synthetic_wines_new = generate_synthetic_wine(seed=2)\n",
    "# Convert the list of dictionaries to a DataFrame\n",
    "synthetic_wines_df = pd.DataFrame(synthetic_wines_new1)\n",
    "synthetic_wines_ge_df = PandasDataset(synthetic_wines_df)\n",
    "# Validate the entire DataFrame\n",
    "results = synthetic_wines_ge_df.validate(expectation_suite=suite, result_format=\"SUMMARY\")\n",
    "\n",
    "# Check if the new data meets the expectations\n",
    "if results[\"success\"]:\n",
    "    wine_fg.insert(synthetic_wines_df, overwrite=False, operation=\"append\")\n",
    "    print(\"All synthetic wine data inserted successfully.\")\n",
    "else:\n",
    "    print(\"Data validation failed:\", results)\n",
    "\n",
    "# Validate against the expectations\n",
    "# results = new_wine_df.validate(expectation_suite=suite, result_format=\"SUMMARY\")\n",
    "\n",
    "# Check if the new data meets the expectations\n",
    "# if results[\"success\"]:\n",
    "#     wine_fg.insert(new_wine_df,\n",
    "#                    overwrite=False,\n",
    "#                    operation=\"append\")\n",
    "#         # new_df,\n",
    "#         # overwrite=False,  # Set to True if you want to overwrite existing data\n",
    "#         # operation=\"append\",  # Choose between \"insert\", \"upsert\", or \"append\"\n",
    "#         # Specify other parameters if needed\n",
    "# else:\n",
    "#     print(\"Data validation failed:\", results)\n"
   ]
  },
  {
   "cell_type": "code",
   "execution_count": null,
   "metadata": {},
   "outputs": [],
   "source": [
    "feature_view_newsamples = fs.get_feature_view(name=\"wine_2\",\n",
    "                                  version=5)\n",
    "X_train1, X_test1, y_train, y_test = feature_view_newsamples.train_test_split(test_size=0.2)\n",
    "print(\"length of x X_train:\",X_train1.shape)\n",
    "print(\"length of x X_test:\",X_test1.shape)\n"
   ]
  },
  {
   "cell_type": "code",
   "execution_count": 9,
   "metadata": {},
   "outputs": [
    {
     "name": "stderr",
     "output_type": "stream",
     "text": [
      "DataConversionWarning: A column-vector y was passed when a 1d array was expected. Please change the shape of y to (n_samples,), for example using ravel().\n"
     ]
    },
    {
     "name": "stdout",
     "output_type": "stream",
     "text": [
      "y_pred max is: quality    2\n",
      "dtype: int64\n",
      "                   Model  Accuracy  Precision    Recall  F1 Score\n",
      "0  Random Forest (n=100)  0.861163   0.845733  0.861163  0.845963\n"
     ]
    }
   ],
   "source": [
    "from sklearn.ensemble import RandomForestClassifier\n",
    "classifier = RandomForestClassifier(random_state = 0, n_estimators = 150,\n",
    "                                    criterion = 'entropy')\n",
    "y_train_1d = y_train.values.ravel() if isinstance(y_train, pd.DataFrame) else y_train.ravel()\n",
    "y_test_1d = y_test.values.ravel() if isinstance(y_test, pd.DataFrame) else y_test.ravel()\n",
    "\n",
    "classifier.fit(X_train, y_train)\n",
    "\n",
    "# Predicting Test Set\n",
    "y_pred = classifier.predict(X_test)\n",
    "print(\"y_pred max is:\",y_train.max())\n",
    "acc = accuracy_score(y_test, y_pred)\n",
    "prec = precision_score(y_test, y_pred,average='weighted')\n",
    "rec = recall_score(y_test, y_pred,average='weighted')\n",
    "f1 = f1_score(y_test, y_pred,average='weighted')\n",
    "\n",
    "model_results = pd.DataFrame([['Random Forest (n=100)', acc, prec, rec, f1]],\n",
    "               columns = ['Model', 'Accuracy', 'Precision', 'Recall', 'F1 Score'])\n",
    "\n",
    "\n",
    "print(model_results)"
   ]
  },
  {
   "cell_type": "code",
   "execution_count": 10,
   "id": "77aa0aee",
   "metadata": {
    "ExecuteTime": {
     "end_time": "2023-11-19T17:10:10.037522Z",
     "start_time": "2023-11-19T17:10:09.992614Z"
    }
   },
   "outputs": [
    {
     "name": "stdout",
     "output_type": "stream",
     "text": [
      "0.8442776735459663\n"
     ]
    }
   ],
   "source": [
    "# Evaluate model performance using the features from the test set (X_test)\n",
    "y_pred = model.predict(X_test)\n",
    "\n",
    "# Compare predictions (y_pred) with the labels in the test set (y_test)\n",
    "from sklearn.metrics import confusion_matrix, accuracy_score, f1_score, precision_score, recall_score\n",
    "acc = accuracy_score(y_test, y_pred)\n",
    "print(acc)"
   ]
  },
  {
   "cell_type": "code",
   "execution_count": 9,
   "id": "4d944032",
   "metadata": {
    "ExecuteTime": {
     "end_time": "2023-11-19T17:10:15.824018Z",
     "start_time": "2023-11-19T17:10:15.341917Z"
    }
   },
   "outputs": [
    {
     "data": {
      "image/png": "[encoded data removed]",
      "text/plain": [
       "<Figure size 640x480 with 2 Axes>"
      ]
     },
     "metadata": {},
     "output_type": "display_data"
    }
   ],
   "source": [
    "# Create the confusion matrix as a figure, we will later store it as a PNG image file\n",
    "# df_cm = pd.DataFrame(results, ['True Setosa', 'True Versicolor', 'True Virginica'],\n",
    "#                      ['Pred Setosa', 'Pred Versicolor', 'Pred Virginica'])\n",
    "# cm = sns.heatmap(df_cm, annot=True)\n",
    "# fig = cm.get_figure()"
   ]
  },
  {
   "cell_type": "code",
   "execution_count": 12,
   "id": "bcfdfc4f",
   "metadata": {
    "ExecuteTime": {
     "end_time": "2023-11-19T17:10:49.650148Z",
     "start_time": "2023-11-19T17:10:17.238759Z"
    }
   },
   "outputs": [
    {
     "name": "stdout",
     "output_type": "stream",
     "text": [
      "Connected. Call `.close()` to terminate connection gracefully.\n"
     ]
    },
    {
     "name": "stderr",
     "output_type": "stream",
     "text": [
      "Uploading: 100.000%|██████████| 1695/1695 elapsed<00:01 remaining<00:00:01,  3.25it/s]\n",
      "Uploading: 100.000%|██████████| 1072/1072 elapsed<00:01 remaining<00:000:04,  1.16s/it]\n",
      "Model export complete: 100%|██████████| 6/6 [00:09<00:00,  1.65s/it]                   "
     ]
    },
    {
     "name": "stdout",
     "output_type": "stream",
     "text": [
      "Model created, explore it at https://c.app.hopsworks.ai:443/p/229529/models/wine_model/1\n"
     ]
    },
    {
     "name": "stderr",
     "output_type": "stream",
     "text": [
      "\n"
     ]
    },
    {
     "data": {
      "text/plain": [
       "Model(name: 'wine_model', version: 1)"
      ]
     },
     "execution_count": 12,
     "metadata": {},
     "output_type": "execute_result"
    }
   ],
   "source": [
    "# We will now upload our model to the Hopsworks Model Registry. First get an object for the model registry.\n",
    "mr = project.get_model_registry()\n",
    "\n",
    "# The contents of the 'iris_model' directory will be saved to the model registry. Create the dir, first.\n",
    "model_dir=\"wine_model\"\n",
    "if os.path.isdir(model_dir) == False:\n",
    "    os.mkdir(model_dir)\n",
    "\n",
    "# Save both our model and the confusion matrix to 'model_dir', whose contents will be uploaded to the model registry\n",
    "joblib.dump(model, model_dir + \"/wine_model.pkl\")\n",
    "# fig.savefig(model_dir + \"/confusion_matrix.png\")    \n",
    "\n",
    "# Specify the schema of the model's input/output using the features (X_train) and labels (y_train)\n",
    "input_schema = Schema(X_train)\n",
    "output_schema = Schema(y_train)\n",
    "model_schema = ModelSchema(input_schema, output_schema)\n",
    "# Ensure that the metrics are single numerical values\n",
    "wine_model = mr.python.create_model(\n",
    "    name=\"wine_model\", \n",
    "    metrics={\n",
    "        \"accuracy\": model_results['Accuracy'].iloc[0],\n",
    "        \"Precision\": model_results['Precision'].iloc[0],\n",
    "        \"Recall\": model_results['Recall'].iloc[0],\n",
    "        \"F1_score\": model_results['F1 Score'].iloc[0]\n",
    "    },\n",
    "    model_schema=model_schema,\n",
    "    description=\"Wine Quality Predictor\"\n",
    ")\n",
    "\n",
    "# Upload the model to the model registry, including all files in 'model_dir'\n",
    "wine_model.save(model_dir)\n"
   ]
  },
  {
   "cell_type": "code",
   "execution_count": null,
   "metadata": {},
   "outputs": [],
   "source": []
  }
 ],
 "metadata": {
  "kernelspec": {
   "display_name": "Python 3 (ipykernel)",
   "language": "python",
   "name": "python3"
  },
  "language_info": {
   "codemirror_mode": {
    "name": "ipython",
    "version": 3
   },
   "file_extension": ".py",
   "mimetype": "text/x-python",
   "name": "python",
   "nbconvert_exporter": "python",
   "pygments_lexer": "ipython3",
   "version": "3.10.12"
  }
 },
 "nbformat": 4,
 "nbformat_minor": 5
}
